{
 "cells": [
  {
   "cell_type": "markdown",
   "id": "0f2b2cc9",
   "metadata": {},
   "source": [
    "### Project Overview & Goals"
   ]
  },
  {
   "cell_type": "markdown",
   "id": "49f5e6c7",
   "metadata": {},
   "source": [
    "### Goal: \n",
    "    \n",
    "Find drivers of customer churn at Telco\n",
    "\n",
    "### Why:\n",
    "\n",
    "Reducing churn is paramount to business brand, reputation, and profitability. Customers have access to numerous channels that can amplify a bad review and lower our NPS.  CAC can be 9x's more expensive than retention efforts.\n",
    "\n",
    "### Overview: \n",
    "\n",
    "Walk through data pipeline process (acquire, prepare, explore, and modeling), conclusions, recommendations, and potentials for further investigation. "
   ]
  },
  {
   "cell_type": "code",
   "execution_count": 6,
   "id": "9667e9a5",
   "metadata": {},
   "outputs": [],
   "source": [
    "# Basic Imports\n",
    "import pandas as pd\n",
    "import numpy as np\n",
    "import seaborn as sns\n",
    "from scipy import stats\n",
    "import matplotlib.pyplot as plt\n",
    "import os\n",
    "\n",
    "# Personal Function Imports\n",
    "from env import get_db_url\n",
    "import acquire as a\n",
    "import prepare as p\n",
    "import explore as e\n",
    "import model as m\n",
    "\n",
    "# Stats and ML Imports\n",
    "from sklearn.model_selection import train_test_split\n",
    "from sklearn.metrics import classification_report\n",
    "from sklearn.metrics import confusion_matrix, ConfusionMatrixDisplay\n",
    "from sklearn.tree import DecisionTreeClassifier, plot_tree\n"
   ]
  },
  {
   "cell_type": "markdown",
   "id": "d644f1ce",
   "metadata": {},
   "source": [
    "### Acquire Phase"
   ]
  },
  {
   "cell_type": "markdown",
   "id": "22f6d6a8",
   "metadata": {},
   "source": [
    "Telco data acquired from Codeup MySql\\\n",
    "Data has 7043 rows an 24 columns\\\n",
    "1526 null values in internet service type\\\n",
    "categories mostly objects\n"
   ]
  },
  {
   "cell_type": "markdown",
   "id": "3790552d",
   "metadata": {},
   "source": [
    "### Prepare Phase"
   ]
  },
  {
   "cell_type": "code",
   "execution_count": 7,
   "id": "48e3f82e",
   "metadata": {},
   "outputs": [
    {
     "data": {
      "text/html": [
       "<div>\n",
       "<style scoped>\n",
       "    .dataframe tbody tr th:only-of-type {\n",
       "        vertical-align: middle;\n",
       "    }\n",
       "\n",
       "    .dataframe tbody tr th {\n",
       "        vertical-align: top;\n",
       "    }\n",
       "\n",
       "    .dataframe thead th {\n",
       "        text-align: right;\n",
       "    }\n",
       "</style>\n",
       "<table border=\"1\" class=\"dataframe\">\n",
       "  <thead>\n",
       "    <tr style=\"text-align: right;\">\n",
       "      <th></th>\n",
       "      <th>customer_id</th>\n",
       "      <th>gender</th>\n",
       "      <th>senior_citizen</th>\n",
       "      <th>partner</th>\n",
       "      <th>dependents</th>\n",
       "      <th>tenure</th>\n",
       "      <th>phone_service</th>\n",
       "      <th>multiple_lines</th>\n",
       "      <th>online_security</th>\n",
       "      <th>online_backup</th>\n",
       "      <th>...</th>\n",
       "      <th>tech_support</th>\n",
       "      <th>streaming_tv</th>\n",
       "      <th>streaming_movies</th>\n",
       "      <th>paperless_billing</th>\n",
       "      <th>monthly_charges</th>\n",
       "      <th>total_charges</th>\n",
       "      <th>churn</th>\n",
       "      <th>contract_type</th>\n",
       "      <th>internet_service_type</th>\n",
       "      <th>payment_type</th>\n",
       "    </tr>\n",
       "  </thead>\n",
       "  <tbody>\n",
       "    <tr>\n",
       "      <th>0</th>\n",
       "      <td>0002-ORFBO</td>\n",
       "      <td>Female</td>\n",
       "      <td>0</td>\n",
       "      <td>Yes</td>\n",
       "      <td>Yes</td>\n",
       "      <td>9</td>\n",
       "      <td>Yes</td>\n",
       "      <td>No</td>\n",
       "      <td>No</td>\n",
       "      <td>Yes</td>\n",
       "      <td>...</td>\n",
       "      <td>Yes</td>\n",
       "      <td>Yes</td>\n",
       "      <td>No</td>\n",
       "      <td>Yes</td>\n",
       "      <td>65.6</td>\n",
       "      <td>593.30</td>\n",
       "      <td>No</td>\n",
       "      <td>One year</td>\n",
       "      <td>DSL</td>\n",
       "      <td>mailed check</td>\n",
       "    </tr>\n",
       "    <tr>\n",
       "      <th>1</th>\n",
       "      <td>0003-MKNFE</td>\n",
       "      <td>Male</td>\n",
       "      <td>0</td>\n",
       "      <td>No</td>\n",
       "      <td>No</td>\n",
       "      <td>9</td>\n",
       "      <td>Yes</td>\n",
       "      <td>Yes</td>\n",
       "      <td>No</td>\n",
       "      <td>No</td>\n",
       "      <td>...</td>\n",
       "      <td>No</td>\n",
       "      <td>No</td>\n",
       "      <td>Yes</td>\n",
       "      <td>No</td>\n",
       "      <td>59.9</td>\n",
       "      <td>542.40</td>\n",
       "      <td>No</td>\n",
       "      <td>Month-to-month</td>\n",
       "      <td>DSL</td>\n",
       "      <td>mailed check</td>\n",
       "    </tr>\n",
       "    <tr>\n",
       "      <th>2</th>\n",
       "      <td>0004-TLHLJ</td>\n",
       "      <td>Male</td>\n",
       "      <td>0</td>\n",
       "      <td>No</td>\n",
       "      <td>No</td>\n",
       "      <td>4</td>\n",
       "      <td>Yes</td>\n",
       "      <td>No</td>\n",
       "      <td>No</td>\n",
       "      <td>No</td>\n",
       "      <td>...</td>\n",
       "      <td>No</td>\n",
       "      <td>No</td>\n",
       "      <td>No</td>\n",
       "      <td>Yes</td>\n",
       "      <td>73.9</td>\n",
       "      <td>280.85</td>\n",
       "      <td>Yes</td>\n",
       "      <td>Month-to-month</td>\n",
       "      <td>Fiber optic</td>\n",
       "      <td>electronic check</td>\n",
       "    </tr>\n",
       "    <tr>\n",
       "      <th>3</th>\n",
       "      <td>0011-IGKFF</td>\n",
       "      <td>Male</td>\n",
       "      <td>1</td>\n",
       "      <td>Yes</td>\n",
       "      <td>No</td>\n",
       "      <td>13</td>\n",
       "      <td>Yes</td>\n",
       "      <td>No</td>\n",
       "      <td>No</td>\n",
       "      <td>Yes</td>\n",
       "      <td>...</td>\n",
       "      <td>No</td>\n",
       "      <td>Yes</td>\n",
       "      <td>Yes</td>\n",
       "      <td>Yes</td>\n",
       "      <td>98.0</td>\n",
       "      <td>1237.85</td>\n",
       "      <td>Yes</td>\n",
       "      <td>Month-to-month</td>\n",
       "      <td>Fiber optic</td>\n",
       "      <td>electronic check</td>\n",
       "    </tr>\n",
       "    <tr>\n",
       "      <th>4</th>\n",
       "      <td>0013-EXCHZ</td>\n",
       "      <td>Female</td>\n",
       "      <td>1</td>\n",
       "      <td>Yes</td>\n",
       "      <td>No</td>\n",
       "      <td>3</td>\n",
       "      <td>Yes</td>\n",
       "      <td>No</td>\n",
       "      <td>No</td>\n",
       "      <td>No</td>\n",
       "      <td>...</td>\n",
       "      <td>Yes</td>\n",
       "      <td>Yes</td>\n",
       "      <td>No</td>\n",
       "      <td>Yes</td>\n",
       "      <td>83.9</td>\n",
       "      <td>267.40</td>\n",
       "      <td>Yes</td>\n",
       "      <td>Month-to-month</td>\n",
       "      <td>Fiber optic</td>\n",
       "      <td>mailed check</td>\n",
       "    </tr>\n",
       "  </tbody>\n",
       "</table>\n",
       "<p>5 rows × 21 columns</p>\n",
       "</div>"
      ],
      "text/plain": [
       "  customer_id  gender  senior_citizen partner dependents  tenure  \\\n",
       "0  0002-ORFBO  Female               0     Yes        Yes       9   \n",
       "1  0003-MKNFE    Male               0      No         No       9   \n",
       "2  0004-TLHLJ    Male               0      No         No       4   \n",
       "3  0011-IGKFF    Male               1     Yes         No      13   \n",
       "4  0013-EXCHZ  Female               1     Yes         No       3   \n",
       "\n",
       "  phone_service multiple_lines online_security online_backup  ...  \\\n",
       "0           Yes             No              No           Yes  ...   \n",
       "1           Yes            Yes              No            No  ...   \n",
       "2           Yes             No              No            No  ...   \n",
       "3           Yes             No              No           Yes  ...   \n",
       "4           Yes             No              No            No  ...   \n",
       "\n",
       "  tech_support streaming_tv streaming_movies paperless_billing  \\\n",
       "0          Yes          Yes               No               Yes   \n",
       "1           No           No              Yes                No   \n",
       "2           No           No               No               Yes   \n",
       "3           No          Yes              Yes               Yes   \n",
       "4          Yes          Yes               No               Yes   \n",
       "\n",
       "  monthly_charges  total_charges  churn   contract_type internet_service_type  \\\n",
       "0            65.6         593.30     No        One year                   DSL   \n",
       "1            59.9         542.40     No  Month-to-month                   DSL   \n",
       "2            73.9         280.85    Yes  Month-to-month           Fiber optic   \n",
       "3            98.0        1237.85    Yes  Month-to-month           Fiber optic   \n",
       "4            83.9         267.40    Yes  Month-to-month           Fiber optic   \n",
       "\n",
       "       payment_type  \n",
       "0      mailed check  \n",
       "1      mailed check  \n",
       "2  electronic check  \n",
       "3  electronic check  \n",
       "4      mailed check  \n",
       "\n",
       "[5 rows x 21 columns]"
      ]
     },
     "execution_count": 7,
     "metadata": {},
     "output_type": "execute_result"
    }
   ],
   "source": [
    "# Acquire function nested in Prepare function calling data put into a dataframe\n",
    "df=p.prep_telco()\n",
    "df.head()\n"
   ]
  },
  {
   "cell_type": "markdown",
   "id": "996daaa9",
   "metadata": {},
   "source": [
    "##### Changes made to data:\n",
    "\n",
    "Duplicate Columns Dropped\\\n",
    "Nulls in Internet Service Type Filled with No Internet Service\\\n",
    "Total Charges Changed From Object to Float\\\n",
    "Total Charges NaNs filled with 0\\\n",
    "Shortened Payment Type names for Graphing Purposes"
   ]
  },
  {
   "cell_type": "markdown",
   "id": "33ba161e",
   "metadata": {},
   "source": [
    "##### Prepare Phase Insights\n",
    "\n",
    "Graphed Features to better understand data.  Decided to ignore features that are subsets of or would be dependent on a higher level feature.  For example, streaming movies and tv is dependent of Internet Service Type.  "
   ]
  },
  {
   "cell_type": "code",
   "execution_count": 8,
   "id": "40657658",
   "metadata": {
    "scrolled": true
   },
   "outputs": [],
   "source": [
    "# Splitting the prepped dataframe(df) into 3 sets: train, validate, test with a 60%, 20%, 20% split, respectively.\n",
    "# Target variable is Churn\n",
    "train, validate, test = p.split_data(df, 'churn')"
   ]
  },
  {
   "cell_type": "code",
   "execution_count": 9,
   "id": "3faeb4f2",
   "metadata": {},
   "outputs": [
    {
     "name": "stdout",
     "output_type": "stream",
     "text": [
      "The Training Shape is: (4225, 21)\n",
      "The Validate Shape is: (1409, 21)\n",
      "The Test Shape is: (1409, 21)\n"
     ]
    }
   ],
   "source": [
    "print(f'The Training Shape is:',train.shape)\n",
    "print(f'The Validate Shape is:',validate.shape)\n",
    "print(f'The Test Shape is:', test.shape)"
   ]
  },
  {
   "cell_type": "markdown",
   "id": "177949ad",
   "metadata": {},
   "source": [
    "### Explore Phase"
   ]
  },
  {
   "cell_type": "markdown",
   "id": "a899302f",
   "metadata": {},
   "source": [
    "##### Initial Hypothesis: Customers churn due to affordability, lack of speed of service, and inconvenience\n",
    "\n",
    "> ##### Monthly charges, internet service type, contract type, and payment type are the features that most closely align to inital hypothesis.\n",
    "\n",
    "> ##### Do the 4 identified features have a relationship to churn?"
   ]
  },
  {
   "cell_type": "markdown",
   "id": "2a0fe68b",
   "metadata": {},
   "source": [
    "###### Consolidated Visuals"
   ]
  },
  {
   "cell_type": "code",
   "execution_count": 10,
   "id": "74624e7e",
   "metadata": {
    "scrolled": false
   },
   "outputs": [
    {
     "data": {
      "image/png": "[encoded data removed]",
      "text/plain": [
       "<Figure size 1500x1000 with 4 Axes>"
      ]
     },
     "metadata": {},
     "output_type": "display_data"
    }
   ],
   "source": [
    "# Categories variable created for features examined to use in function\n",
    "categories = ['internet_service_type', 'payment_type', 'contract_type', 'monthly_charges']\n",
    "\n",
    "# Function Overview: plots dtype with appropriate visual while looping through categories and indexing axes\n",
    "e.plot_categorical_by_churn(train, categories)"
   ]
  },
  {
   "cell_type": "markdown",
   "id": "a28bcce8",
   "metadata": {},
   "source": [
    "##### Statistical Testing"
   ]
  },
  {
   "cell_type": "markdown",
   "id": "5ae34f68",
   "metadata": {},
   "source": [
    "Internet Service Type, contract type, and payment type are categorical variables. Will use Chi 2 test to evaluate statistical signifigance.\\\n",
    "\\\n",
    "Null Hypthosesis:  There is no relationship between the target variable and corresponding feature(s)\\\n",
    "Hypothesis: there is a relationship betweent the target variable and corresponding feature(s)"
   ]
  },
  {
   "cell_type": "code",
   "execution_count": 11,
   "id": "e5d4f048",
   "metadata": {},
   "outputs": [
    {
     "name": "stdout",
     "output_type": "stream",
     "text": [
      "\n",
      "internet_service_type & churn\n",
      "\n",
      "Chi2: 417.88813854093104\n",
      "P-value: 3.9804371258943206e-87\n",
      "Degrees of Freedom: 6\n",
      "\n",
      "The null hypothesis can be rejected due to statistical significance.\n",
      "Ergo there is a relationship between the target variable and corresponding feature(s)\n",
      "\n",
      "payment_type & churn\n",
      "\n",
      "Chi2: 386.1839951483273\n",
      "P-value: 1.687008595564822e-78\n",
      "Degrees of Freedom: 8\n",
      "\n",
      "The null hypothesis can be rejected due to statistical significance.\n",
      "Ergo there is a relationship between the target variable and corresponding feature(s)\n",
      "\n",
      "contract_type & churn\n",
      "\n",
      "Chi2: 714.1745080997528\n",
      "P-value: 5.320189784717562e-151\n",
      "Degrees of Freedom: 6\n",
      "\n",
      "The null hypothesis can be rejected due to statistical significance.\n",
      "Ergo there is a relationship between the target variable and corresponding feature(s)\n"
     ]
    }
   ],
   "source": [
    "# create categories variable with object type features\n",
    "categories = ['internet_service_type', 'payment_type', 'contract_type']\n",
    "\n",
    "# loop through categories creating category variables (cat_var) for use in explore function for Chi2 test\n",
    "for cat_var in categories:\n",
    "    e.explore_categorical(train, 'churn', cat_var)"
   ]
  },
  {
   "cell_type": "markdown",
   "id": "71e33210",
   "metadata": {},
   "source": [
    "> ##### Float Category: Monthly Charges\n",
    "\n",
    "Passed Levene Test for Equal Variance.\\\n",
    "Failed Shapiro Test for Normal Distribution.\\\n",
    "\\\n",
    "Ran Mann-Whitney U Stat Test"
   ]
  },
  {
   "cell_type": "code",
   "execution_count": 12,
   "id": "7ef1047f",
   "metadata": {},
   "outputs": [
    {
     "name": "stdout",
     "output_type": "stream",
     "text": [
      "Mann-Whitney U statistic: 1343343.0\n",
      "Mann-Whitney U test p-value: 9.83259830397179e-30\n",
      "\n",
      "There is a significant difference in monthly charges between churn and non-churn groups.\n"
     ]
    }
   ],
   "source": [
    "# Create two groups based on churn status\n",
    "group_not_churn = train.monthly_charges[train.churn == 'No']\n",
    "group_churn = train.monthly_charges[train.churn == 'Yes']\n",
    "\n",
    "# Perform Mann-Whitney U test\n",
    "u_statistic, mannwhitney_pvalue = stats.mannwhitneyu(group_not_churn, group_churn)\n",
    "\n",
    "# Print the results\n",
    "print('Mann-Whitney U statistic:', u_statistic)\n",
    "print('Mann-Whitney U test p-value:', mannwhitney_pvalue)\n",
    "print('')\n",
    "\n",
    "# Interpret the results\n",
    "α = 0.05\n",
    "if mannwhitney_pvalue < α:\n",
    "    print('There is a significant difference in monthly charges between churn and non-churn groups.')\n",
    "else:\n",
    "    print('There is no significant difference in monthly charges between churn and non-churn groups.')"
   ]
  },
  {
   "cell_type": "code",
   "execution_count": 13,
   "id": "b81dbbd4",
   "metadata": {},
   "outputs": [
    {
     "data": {
      "image/png": "[encoded data removed]",
      "text/plain": [
       "<Figure size 1500x1000 with 4 Axes>"
      ]
     },
     "metadata": {},
     "output_type": "display_data"
    }
   ],
   "source": [
    "# subgroups variable created to use in function\n",
    "subgroups = ['contract_type', 'internet_service_type', 'payment_type']\n",
    "\n",
    "# Function Overview: Uses boxplots to loop through subgroups and examine their relationship to monthly charges \n",
    "# while indexing plots\n",
    "e.plot_boxplots_by_subgroups(train, subgroups)"
   ]
  },
  {
   "cell_type": "markdown",
   "id": "25ed8d90",
   "metadata": {},
   "source": [
    "##### Conclusions:  \n",
    "Fiber Optic is the top contributor within Internet Service Type Churn\n",
    "Mailed Checks is the top contributor within Payment Type Churn\n",
    "Mont-to_month is the top contributor within Contract Type\n",
    "Monthly charges are not a significant contributor to churn with the monthly charge distribution.\n",
    "\n",
    "Monthly charges seems to be a significant contributor to churn for one year and two year contracts but less so for month-to-month.\n",
    "Montly charges does not appear to be a significant contributor to Fiber Optic, No Internet Service, or DSL.\n",
    "Monthly charges appears to be a significant contributor to mailed check churn, credit card, and bank transfer, but not so a significant contributor to electronic check.\n",
    "\n",
    "##### Recommendations & Potential for Further Investigation\n",
    "\n",
    "Look into driver of Fiber Optic churn.  Fiber indicates speed and complexity.  Assumption is that there is a relationship to tech support.\n",
    "\n",
    "Run statistical test on monthly charges to mailed check by churn.  Once confirmed assumption is that there is also a relationship to month-to-month and mailed check.  "
   ]
  },
  {
   "cell_type": "markdown",
   "id": "759e9920",
   "metadata": {},
   "source": [
    "### Modeling Phase"
   ]
  },
  {
   "cell_type": "code",
   "execution_count": 14,
   "id": "df6bb139",
   "metadata": {},
   "outputs": [
    {
     "data": {
      "text/plain": [
       "Index(['customer_id', 'senior_citizen', 'tenure', 'total_charges',\n",
       "       'gender_Male', 'partner_Yes', 'dependents_Yes', 'phone_service_Yes',\n",
       "       'multiple_lines_No phone service', 'multiple_lines_Yes',\n",
       "       'online_security_No internet service', 'online_security_Yes',\n",
       "       'online_backup_No internet service', 'online_backup_Yes',\n",
       "       'device_protection_No internet service', 'device_protection_Yes',\n",
       "       'tech_support_No internet service', 'tech_support_Yes',\n",
       "       'streaming_tv_No internet service', 'streaming_tv_Yes',\n",
       "       'streaming_movies_No internet service', 'streaming_movies_Yes',\n",
       "       'paperless_billing_Yes', 'monthly_charges_30-60',\n",
       "       'monthly_charges_60-90', 'monthly_charges_90-120',\n",
       "       'monthly_charges_120+', 'churn_Yes', 'contract_type_One year',\n",
       "       'contract_type_Two year', 'internet_service_type_Fiber optic',\n",
       "       'internet_service_type_No internet service', 'payment_type_credit card',\n",
       "       'payment_type_electronic check', 'payment_type_mailed check'],\n",
       "      dtype='object')"
      ]
     },
     "execution_count": 14,
     "metadata": {},
     "output_type": "execute_result"
    }
   ],
   "source": [
    "# encode objects with dummies, bin monthly_charges in ranges of 30 \n",
    "train, validate, test=m.telco_encoded(train, validate, test)\n",
    "train.columns"
   ]
  },
  {
   "cell_type": "markdown",
   "id": "6e0297b3",
   "metadata": {},
   "source": [
    "##### Split Into Features & Target Variable (churn)"
   ]
  },
  {
   "cell_type": "code",
   "execution_count": 15,
   "id": "b5de517f",
   "metadata": {},
   "outputs": [],
   "source": [
    "# Call Model.py for prep xy function which drops superfluous columns.  Limits scope to key features and their \n",
    "# dummies\n",
    "X_train, y_train = m.prep_xy(train)\n",
    "X_validate, y_validate = m.prep_xy(validate)\n",
    "X_test, y_test = m.prep_xy(test)"
   ]
  },
  {
   "cell_type": "markdown",
   "id": "1c3c2296",
   "metadata": {},
   "source": [
    "##### Establish Baseline"
   ]
  },
  {
   "cell_type": "code",
   "execution_count": 16,
   "id": "4b55a527",
   "metadata": {},
   "outputs": [
    {
     "data": {
      "text/plain": [
       "0.7346745562130178"
      ]
     },
     "execution_count": 16,
     "metadata": {},
     "output_type": "execute_result"
    }
   ],
   "source": [
    "# No Churn is the Mode and used to determine baseline accuracy\n",
    "y_train.value_counts(normalize=True)[0]"
   ]
  },
  {
   "cell_type": "markdown",
   "id": "8b94b97c",
   "metadata": {},
   "source": [
    "##### Evaluation Metric"
   ]
  },
  {
   "cell_type": "markdown",
   "id": "6b74dc52",
   "metadata": {},
   "source": [
    "> ##### Recall (Sensitivity): Recall is the proportion of true positive predictions among all actual positive cases. "
   ]
  },
  {
   "cell_type": "code",
   "execution_count": 17,
   "id": "38dd2476",
   "metadata": {},
   "outputs": [
    {
     "name": "stdout",
     "output_type": "stream",
     "text": [
      "Results for max_depth=2:\n",
      "\n",
      "Classification Report (Training):\n",
      "               precision    recall  f1-score   support\n",
      "\n",
      "           0       0.81      0.85      0.83      3104\n",
      "           1       0.53      0.46      0.49      1121\n",
      "\n",
      "    accuracy                           0.75      4225\n",
      "   macro avg       0.67      0.66      0.66      4225\n",
      "weighted avg       0.74      0.75      0.74      4225\n",
      "\n",
      "Classification Report (Validation):\n",
      "               precision    recall  f1-score   support\n",
      "\n",
      "           0       0.81      0.87      0.84      1035\n",
      "           1       0.54      0.42      0.47       374\n",
      "\n",
      "    accuracy                           0.75      1409\n",
      "   macro avg       0.67      0.64      0.65      1409\n",
      "weighted avg       0.73      0.75      0.74      1409\n",
      "\n",
      "Results for max_depth=3:\n",
      "\n",
      "Classification Report (Training):\n",
      "               precision    recall  f1-score   support\n",
      "\n",
      "           0       0.81      0.88      0.85      3104\n",
      "           1       0.57      0.43      0.49      1121\n",
      "\n",
      "    accuracy                           0.76      4225\n",
      "   macro avg       0.69      0.66      0.67      4225\n",
      "weighted avg       0.75      0.76      0.75      4225\n",
      "\n",
      "Classification Report (Validation):\n",
      "               precision    recall  f1-score   support\n",
      "\n",
      "           0       0.80      0.89      0.84      1035\n",
      "           1       0.56      0.39      0.46       374\n",
      "\n",
      "    accuracy                           0.76      1409\n",
      "   macro avg       0.68      0.64      0.65      1409\n",
      "weighted avg       0.74      0.76      0.74      1409\n",
      "\n",
      "Results for max_depth=4:\n",
      "\n",
      "Classification Report (Training):\n",
      "               precision    recall  f1-score   support\n",
      "\n",
      "           0       0.81      0.90      0.85      3104\n",
      "           1       0.61      0.43      0.50      1121\n",
      "\n",
      "    accuracy                           0.77      4225\n",
      "   macro avg       0.71      0.66      0.68      4225\n",
      "weighted avg       0.76      0.77      0.76      4225\n",
      "\n",
      "Classification Report (Validation):\n",
      "               precision    recall  f1-score   support\n",
      "\n",
      "           0       0.80      0.90      0.85      1035\n",
      "           1       0.59      0.39      0.47       374\n",
      "\n",
      "    accuracy                           0.77      1409\n",
      "   macro avg       0.70      0.65      0.66      1409\n",
      "weighted avg       0.75      0.77      0.75      1409\n",
      "\n",
      "Results for max_depth=5:\n",
      "\n",
      "Classification Report (Training):\n",
      "               precision    recall  f1-score   support\n",
      "\n",
      "           0       0.81      0.90      0.85      3104\n",
      "           1       0.61      0.43      0.50      1121\n",
      "\n",
      "    accuracy                           0.77      4225\n",
      "   macro avg       0.71      0.66      0.68      4225\n",
      "weighted avg       0.76      0.77      0.76      4225\n",
      "\n",
      "Classification Report (Validation):\n",
      "               precision    recall  f1-score   support\n",
      "\n",
      "           0       0.80      0.90      0.85      1035\n",
      "           1       0.59      0.39      0.47       374\n",
      "\n",
      "    accuracy                           0.77      1409\n",
      "   macro avg       0.70      0.65      0.66      1409\n",
      "weighted avg       0.75      0.77      0.75      1409\n",
      "\n"
     ]
    }
   ],
   "source": [
    "# sets max depth range 2 thru 5\n",
    "max_depth_values=range(2,6)\n",
    "\n",
    "# Function designed to loop through max depth and print classification results.  5 was found to be the optimal max\n",
    "# depth with range 1- 10. Accuracy is maintained without a drop in recall\n",
    "m.clf_train_validate(X_train, y_train, X_validate, y_validate, max_depth_values)"
   ]
  },
  {
   "cell_type": "code",
   "execution_count": 18,
   "id": "3b873e78",
   "metadata": {},
   "outputs": [
    {
     "name": "stdout",
     "output_type": "stream",
     "text": [
      "Classification Report (Test):\n",
      "               precision    recall  f1-score   support\n",
      "\n",
      "           0       0.82      0.90      0.85      1035\n",
      "           1       0.60      0.44      0.51       374\n",
      "\n",
      "    accuracy                           0.78      1409\n",
      "   macro avg       0.71      0.67      0.68      1409\n",
      "weighted avg       0.76      0.78      0.76      1409\n",
      "\n"
     ]
    }
   ],
   "source": [
    "# DecisionTreeClassifier for Test data with the optimal max_depth\n",
    "clf = DecisionTreeClassifier(max_depth=5, random_state=42)\n",
    "\n",
    "# Fit the model on the training data\n",
    "clf.fit(X_train, y_train)\n",
    "\n",
    "# Make predictions on the test set\n",
    "y_pred_test = clf.predict(X_test)\n",
    "\n",
    "# Print the classification report\n",
    "print('Classification Report (Test):\\n', classification_report(y_test, y_pred_test))"
   ]
  },
  {
   "cell_type": "markdown",
   "id": "4deba455",
   "metadata": {},
   "source": [
    "##### Predictions"
   ]
  },
  {
   "cell_type": "code",
   "execution_count": 19,
   "id": "913a295a",
   "metadata": {},
   "outputs": [
    {
     "data": {
      "text/html": [
       "<div>\n",
       "<style scoped>\n",
       "    .dataframe tbody tr th:only-of-type {\n",
       "        vertical-align: middle;\n",
       "    }\n",
       "\n",
       "    .dataframe tbody tr th {\n",
       "        vertical-align: top;\n",
       "    }\n",
       "\n",
       "    .dataframe thead th {\n",
       "        text-align: right;\n",
       "    }\n",
       "</style>\n",
       "<table border=\"1\" class=\"dataframe\">\n",
       "  <thead>\n",
       "    <tr style=\"text-align: right;\">\n",
       "      <th></th>\n",
       "      <th>customer_id</th>\n",
       "      <th>senior_citizen</th>\n",
       "      <th>tenure</th>\n",
       "      <th>total_charges</th>\n",
       "      <th>gender_Male</th>\n",
       "      <th>partner_Yes</th>\n",
       "      <th>dependents_Yes</th>\n",
       "      <th>phone_service_Yes</th>\n",
       "      <th>multiple_lines_No phone service</th>\n",
       "      <th>multiple_lines_Yes</th>\n",
       "      <th>...</th>\n",
       "      <th>monthly_charges_90-120</th>\n",
       "      <th>monthly_charges_120+</th>\n",
       "      <th>churn_Yes</th>\n",
       "      <th>contract_type_One year</th>\n",
       "      <th>contract_type_Two year</th>\n",
       "      <th>internet_service_type_Fiber optic</th>\n",
       "      <th>internet_service_type_No internet service</th>\n",
       "      <th>payment_type_credit card</th>\n",
       "      <th>payment_type_electronic check</th>\n",
       "      <th>payment_type_mailed check</th>\n",
       "    </tr>\n",
       "  </thead>\n",
       "  <tbody>\n",
       "    <tr>\n",
       "      <th>4930</th>\n",
       "      <td>6941-KXRRV</td>\n",
       "      <td>1</td>\n",
       "      <td>48</td>\n",
       "      <td>2789.70</td>\n",
       "      <td>0</td>\n",
       "      <td>1</td>\n",
       "      <td>0</td>\n",
       "      <td>1</td>\n",
       "      <td>0</td>\n",
       "      <td>0</td>\n",
       "      <td>...</td>\n",
       "      <td>0</td>\n",
       "      <td>0</td>\n",
       "      <td>0</td>\n",
       "      <td>1</td>\n",
       "      <td>0</td>\n",
       "      <td>0</td>\n",
       "      <td>0</td>\n",
       "      <td>0</td>\n",
       "      <td>0</td>\n",
       "      <td>0</td>\n",
       "    </tr>\n",
       "    <tr>\n",
       "      <th>117</th>\n",
       "      <td>0206-OYVOC</td>\n",
       "      <td>0</td>\n",
       "      <td>46</td>\n",
       "      <td>864.20</td>\n",
       "      <td>0</td>\n",
       "      <td>1</td>\n",
       "      <td>1</td>\n",
       "      <td>1</td>\n",
       "      <td>0</td>\n",
       "      <td>0</td>\n",
       "      <td>...</td>\n",
       "      <td>0</td>\n",
       "      <td>0</td>\n",
       "      <td>0</td>\n",
       "      <td>0</td>\n",
       "      <td>1</td>\n",
       "      <td>0</td>\n",
       "      <td>1</td>\n",
       "      <td>0</td>\n",
       "      <td>0</td>\n",
       "      <td>1</td>\n",
       "    </tr>\n",
       "    <tr>\n",
       "      <th>5275</th>\n",
       "      <td>7442-YGZFK</td>\n",
       "      <td>0</td>\n",
       "      <td>1</td>\n",
       "      <td>49.80</td>\n",
       "      <td>1</td>\n",
       "      <td>0</td>\n",
       "      <td>0</td>\n",
       "      <td>1</td>\n",
       "      <td>0</td>\n",
       "      <td>1</td>\n",
       "      <td>...</td>\n",
       "      <td>0</td>\n",
       "      <td>0</td>\n",
       "      <td>0</td>\n",
       "      <td>0</td>\n",
       "      <td>0</td>\n",
       "      <td>0</td>\n",
       "      <td>0</td>\n",
       "      <td>1</td>\n",
       "      <td>0</td>\n",
       "      <td>0</td>\n",
       "    </tr>\n",
       "    <tr>\n",
       "      <th>6364</th>\n",
       "      <td>9018-PCIOK</td>\n",
       "      <td>0</td>\n",
       "      <td>55</td>\n",
       "      <td>3617.10</td>\n",
       "      <td>0</td>\n",
       "      <td>0</td>\n",
       "      <td>0</td>\n",
       "      <td>1</td>\n",
       "      <td>0</td>\n",
       "      <td>0</td>\n",
       "      <td>...</td>\n",
       "      <td>0</td>\n",
       "      <td>0</td>\n",
       "      <td>0</td>\n",
       "      <td>0</td>\n",
       "      <td>1</td>\n",
       "      <td>0</td>\n",
       "      <td>0</td>\n",
       "      <td>0</td>\n",
       "      <td>0</td>\n",
       "      <td>1</td>\n",
       "    </tr>\n",
       "    <tr>\n",
       "      <th>1092</th>\n",
       "      <td>1591-MQJTP</td>\n",
       "      <td>1</td>\n",
       "      <td>51</td>\n",
       "      <td>4839.15</td>\n",
       "      <td>1</td>\n",
       "      <td>1</td>\n",
       "      <td>0</td>\n",
       "      <td>1</td>\n",
       "      <td>0</td>\n",
       "      <td>1</td>\n",
       "      <td>...</td>\n",
       "      <td>1</td>\n",
       "      <td>0</td>\n",
       "      <td>0</td>\n",
       "      <td>1</td>\n",
       "      <td>0</td>\n",
       "      <td>1</td>\n",
       "      <td>0</td>\n",
       "      <td>0</td>\n",
       "      <td>0</td>\n",
       "      <td>0</td>\n",
       "    </tr>\n",
       "  </tbody>\n",
       "</table>\n",
       "<p>5 rows × 35 columns</p>\n",
       "</div>"
      ],
      "text/plain": [
       "     customer_id  senior_citizen  tenure  total_charges  gender_Male  \\\n",
       "4930  6941-KXRRV               1      48        2789.70            0   \n",
       "117   0206-OYVOC               0      46         864.20            0   \n",
       "5275  7442-YGZFK               0       1          49.80            1   \n",
       "6364  9018-PCIOK               0      55        3617.10            0   \n",
       "1092  1591-MQJTP               1      51        4839.15            1   \n",
       "\n",
       "      partner_Yes  dependents_Yes  phone_service_Yes  \\\n",
       "4930            1               0                  1   \n",
       "117             1               1                  1   \n",
       "5275            0               0                  1   \n",
       "6364            0               0                  1   \n",
       "1092            1               0                  1   \n",
       "\n",
       "      multiple_lines_No phone service  multiple_lines_Yes  ...  \\\n",
       "4930                                0                   0  ...   \n",
       "117                                 0                   0  ...   \n",
       "5275                                0                   1  ...   \n",
       "6364                                0                   0  ...   \n",
       "1092                                0                   1  ...   \n",
       "\n",
       "      monthly_charges_90-120  monthly_charges_120+  churn_Yes  \\\n",
       "4930                       0                     0          0   \n",
       "117                        0                     0          0   \n",
       "5275                       0                     0          0   \n",
       "6364                       0                     0          0   \n",
       "1092                       1                     0          0   \n",
       "\n",
       "      contract_type_One year  contract_type_Two year  \\\n",
       "4930                       1                       0   \n",
       "117                        0                       1   \n",
       "5275                       0                       0   \n",
       "6364                       0                       1   \n",
       "1092                       1                       0   \n",
       "\n",
       "      internet_service_type_Fiber optic  \\\n",
       "4930                                  0   \n",
       "117                                   0   \n",
       "5275                                  0   \n",
       "6364                                  0   \n",
       "1092                                  1   \n",
       "\n",
       "      internet_service_type_No internet service  payment_type_credit card  \\\n",
       "4930                                          0                         0   \n",
       "117                                           1                         0   \n",
       "5275                                          0                         1   \n",
       "6364                                          0                         0   \n",
       "1092                                          0                         0   \n",
       "\n",
       "      payment_type_electronic check  payment_type_mailed check  \n",
       "4930                              0                          0  \n",
       "117                               0                          1  \n",
       "5275                              0                          0  \n",
       "6364                              0                          1  \n",
       "1092                              0                          0  \n",
       "\n",
       "[5 rows x 35 columns]"
      ]
     },
     "execution_count": 19,
     "metadata": {},
     "output_type": "execute_result"
    }
   ],
   "source": [
    "test.head()"
   ]
  },
  {
   "cell_type": "code",
   "execution_count": 20,
   "id": "0e4c72a5",
   "metadata": {},
   "outputs": [
    {
     "name": "stdout",
     "output_type": "stream",
     "text": [
      "Export complete.\n"
     ]
    }
   ],
   "source": [
    "# Make predictions on the test set\n",
    "test_prob = clf.predict_proba(X_test)\n",
    "test_pred = clf.predict(X_test)\n",
    "\n",
    "# Create a DataFrame with predictions\n",
    "pred_df = pd.DataFrame({\n",
    "    'customer_id': test['customer_id'],\n",
    "    'probability_of_churn': test_prob[:, 1],  # Assuming 1 is the index for the positive class\n",
    "    'prediction_of_churn': test_pred\n",
    "})\n",
    "\n",
    "# Save the predictions to a CSV file\n",
    "pred_df.to_csv('predictions.csv', index=False)\n",
    "print('Export complete.')\n"
   ]
  },
  {
   "cell_type": "code",
   "execution_count": 21,
   "id": "545bdad2",
   "metadata": {},
   "outputs": [
    {
     "data": {
      "text/html": [
       "<div>\n",
       "<style scoped>\n",
       "    .dataframe tbody tr th:only-of-type {\n",
       "        vertical-align: middle;\n",
       "    }\n",
       "\n",
       "    .dataframe tbody tr th {\n",
       "        vertical-align: top;\n",
       "    }\n",
       "\n",
       "    .dataframe thead th {\n",
       "        text-align: right;\n",
       "    }\n",
       "</style>\n",
       "<table border=\"1\" class=\"dataframe\">\n",
       "  <thead>\n",
       "    <tr style=\"text-align: right;\">\n",
       "      <th></th>\n",
       "      <th>customer_id</th>\n",
       "      <th>probability_of_churn</th>\n",
       "      <th>prediction_of_churn</th>\n",
       "    </tr>\n",
       "  </thead>\n",
       "  <tbody>\n",
       "    <tr>\n",
       "      <th>4930</th>\n",
       "      <td>6941-KXRRV</td>\n",
       "      <td>0.085526</td>\n",
       "      <td>0</td>\n",
       "    </tr>\n",
       "    <tr>\n",
       "      <th>117</th>\n",
       "      <td>0206-OYVOC</td>\n",
       "      <td>0.000000</td>\n",
       "      <td>0</td>\n",
       "    </tr>\n",
       "    <tr>\n",
       "      <th>5275</th>\n",
       "      <td>7442-YGZFK</td>\n",
       "      <td>0.302326</td>\n",
       "      <td>0</td>\n",
       "    </tr>\n",
       "    <tr>\n",
       "      <th>6364</th>\n",
       "      <td>9018-PCIOK</td>\n",
       "      <td>0.000000</td>\n",
       "      <td>0</td>\n",
       "    </tr>\n",
       "    <tr>\n",
       "      <th>1092</th>\n",
       "      <td>1591-MQJTP</td>\n",
       "      <td>0.154286</td>\n",
       "      <td>0</td>\n",
       "    </tr>\n",
       "  </tbody>\n",
       "</table>\n",
       "</div>"
      ],
      "text/plain": [
       "     customer_id  probability_of_churn  prediction_of_churn\n",
       "4930  6941-KXRRV              0.085526                    0\n",
       "117   0206-OYVOC              0.000000                    0\n",
       "5275  7442-YGZFK              0.302326                    0\n",
       "6364  9018-PCIOK              0.000000                    0\n",
       "1092  1591-MQJTP              0.154286                    0"
      ]
     },
     "execution_count": 21,
     "metadata": {},
     "output_type": "execute_result"
    }
   ],
   "source": [
    "pred_df.head()"
   ]
  }
 ],
 "metadata": {
  "kernelspec": {
   "display_name": "Python 3 (ipykernel)",
   "language": "python",
   "name": "python3"
  },
  "language_info": {
   "codemirror_mode": {
    "name": "ipython",
    "version": 3
   },
   "file_extension": ".py",
   "mimetype": "text/x-python",
   "name": "python",
   "nbconvert_exporter": "python",
   "pygments_lexer": "ipython3",
   "version": "3.11.5"
  }
 },
 "nbformat": 4,
 "nbformat_minor": 5
}
